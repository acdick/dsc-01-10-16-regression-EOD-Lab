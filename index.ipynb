{
 "cells": [
  {
   "cell_type": "markdown",
   "metadata": {},
   "source": [
    "# Mod 2 Week 2: Regression on the Boston Housing Dataset\n",
    "\n",
    "## Introduction\n",
    "\n",
    "In this lab, we shall apply regression analysis and diagnostics techniques covered in this section to a familiar \"Boston Housing\" dataset. We are going to identify the predictive ability of features found in this dataset towards identifying housing prices. \n",
    "\n",
    "### Objectives:\n",
    "You will be able to:\n",
    "* Perform statistical tests on our data\n",
    "* Build linear models with boston housing data set using OLS\n",
    "* Visually explain the results and interpret the diagnostics from Statsmodels \n",
    "* Comment on the goodness of fit for a simple regression model"
   ]
  },
  {
   "cell_type": "markdown",
   "metadata": {},
   "source": [
    "<img src=\"https://media.giphy.com/media/3qCAELaZ4oXLKmZlUA/giphy.gif\" \n",
    "alt=\"IMAGE ALT TEXT HERE\" border=\"10\" />"
   ]
  },
  {
   "cell_type": "markdown",
   "metadata": {},
   "source": [
    "### Import necessary libraries and load 'BostonHousing.csv' as pandas dataframe."
   ]
  },
  {
   "cell_type": "code",
   "execution_count": null,
   "metadata": {},
   "outputs": [],
   "source": [
    "# Your code here\n"
   ]
  },
  {
   "cell_type": "markdown",
   "metadata": {},
   "source": [
    "### Inspect the first few rows and all the columns of the dataset"
   ]
  },
  {
   "cell_type": "code",
   "execution_count": null,
   "metadata": {},
   "outputs": [],
   "source": [
    "# Your code here\n"
   ]
  },
  {
   "cell_type": "code",
   "execution_count": null,
   "metadata": {},
   "outputs": [],
   "source": [
    "# Record your notes here \n"
   ]
  },
  {
   "cell_type": "markdown",
   "metadata": {},
   "source": [
    "### For this lab, we're going to narrow the data down. Create a new dataset with `['crim', 'indus', 'chas', 'rm', 'tax', 'medv']`"
   ]
  },
  {
   "cell_type": "code",
   "execution_count": null,
   "metadata": {},
   "outputs": [],
   "source": [
    "# Your code here\n"
   ]
  },
  {
   "cell_type": "markdown",
   "metadata": {},
   "source": [
    "### Go to the dataset's documentation on [Kaggle](https://www.kaggle.com/c/boston-housing) and note what these variables mean. "
   ]
  },
  {
   "cell_type": "code",
   "execution_count": null,
   "metadata": {},
   "outputs": [],
   "source": [
    "# crim: \n",
    "# indus: \n",
    "# chas: \n",
    "# rm: \n",
    "# tax: \n",
    "# medv: "
   ]
  },
  {
   "cell_type": "markdown",
   "metadata": {},
   "source": [
    "### Optional: Plot a histogram for each variable to visualize their distributions."
   ]
  },
  {
   "cell_type": "code",
   "execution_count": null,
   "metadata": {},
   "outputs": [],
   "source": []
  },
  {
   "cell_type": "markdown",
   "metadata": {},
   "source": [
    "### Answer the following questions:\n",
    "\n",
    "1. The average effective tax rate in Massachusetts is 1.21%. Based on this dataset, is Boston's tax rate significantly more than 1.21%? (alpha = 0.05) Set up your Null and Alternative Hypotheses. In your answer, state the statistical test you're using.\n"
   ]
  },
  {
   "cell_type": "code",
   "execution_count": null,
   "metadata": {},
   "outputs": [],
   "source": []
  },
  {
   "cell_type": "markdown",
   "metadata": {},
   "source": [
    "2. Assume that the crime rates in our dataset represent the population. What are the population's parameters (mean and standard deviation)? Is the crime rate in nearby Qunicy of **4.07 per 1000 residents** significantly different from Boston's? Again, set up your hypotheses, alpha = 0.05, and state the statistical test you're using."
   ]
  },
  {
   "cell_type": "code",
   "execution_count": null,
   "metadata": {},
   "outputs": [],
   "source": []
  },
  {
   "cell_type": "markdown",
   "metadata": {},
   "source": [
    "3. In this lab, we are going to use **medv** as our target variable. Which of the other variables (a.k.a. *features*) (crim, rm, tax, indus) is most correlated with **medv**? \n",
    "\n",
    "For each feature, find the correlation coefficient with **medv** and *(bonus)* make a scatterplot. How would you interpret the correlation between our features and our target?"
   ]
  },
  {
   "cell_type": "code",
   "execution_count": null,
   "metadata": {},
   "outputs": [],
   "source": []
  },
  {
   "cell_type": "code",
   "execution_count": null,
   "metadata": {},
   "outputs": [],
   "source": []
  },
  {
   "cell_type": "markdown",
   "metadata": {},
   "source": [
    "![mathdamon](https://media.giphy.com/media/9cpXRPjZuo6pq/giphy.gif \"math\")"
   ]
  },
  {
   "cell_type": "markdown",
   "metadata": {},
   "source": [
    "## Let's do our first Regression!\n",
    "\n",
    "Using StatsModels, run a univariate (single variable) linear regression with **medv** as the target and the most correlated column as the one feature.\n",
    "\n"
   ]
  },
  {
   "cell_type": "code",
   "execution_count": null,
   "metadata": {},
   "outputs": [],
   "source": [
    "# from your dataframe, assign y and X to your target and features respectively\n",
    "# these are going to be series from your dataframe\n",
    "y = pass\n",
    "x = pass"
   ]
  },
  {
   "cell_type": "code",
   "execution_count": null,
   "metadata": {},
   "outputs": [],
   "source": [
    "import statsmodels.api as sm"
   ]
  },
  {
   "cell_type": "code",
   "execution_count": null,
   "metadata": {},
   "outputs": [],
   "source": []
  },
  {
   "cell_type": "code",
   "execution_count": null,
   "metadata": {},
   "outputs": [],
   "source": []
  },
  {
   "cell_type": "markdown",
   "metadata": {},
   "source": [
    "What can you conclude about the relationship between **medv** and your selected feature? Put this result in context."
   ]
  },
  {
   "cell_type": "code",
   "execution_count": null,
   "metadata": {},
   "outputs": [],
   "source": []
  },
  {
   "cell_type": "markdown",
   "metadata": {},
   "source": [
    "## Level Up: Multiple Regression!\n",
    "Now that we've done regression with one feature, let's try it out with multiple features. From our five features, take one out from your model. Justify why you chose to omit that feature."
   ]
  },
  {
   "cell_type": "code",
   "execution_count": null,
   "metadata": {},
   "outputs": [],
   "source": [
    "# df for your four features\n",
    "X = pass"
   ]
  },
  {
   "cell_type": "code",
   "execution_count": null,
   "metadata": {},
   "outputs": [],
   "source": []
  },
  {
   "cell_type": "markdown",
   "metadata": {},
   "source": [
    "Do the coefficients make sense?"
   ]
  },
  {
   "cell_type": "code",
   "execution_count": null,
   "metadata": {},
   "outputs": [],
   "source": [
    "# YES/NO/MAYBE??? "
   ]
  },
  {
   "cell_type": "markdown",
   "metadata": {},
   "source": [
    "#### Questions:\n",
    "1. Between the single and multiple regression models, which did better? What metric do you use to compare?\n",
    "2. Looking at the coefficients of the multiple regression model, how does **medv** change if the average number of rooms of an area goes up by 1?\n",
    "3. Neighborhood A has a crime rate of 2%, has houses of 6.5 rooms on average, is subject to a property tax rate of 300 per 10,000 dollars, and has an indus stat of 7. How much would our multiple regression model predict Neighborhood A's **medv** to be?\n",
    "4. (Bonus) Without using StatsModels, write a function that takes in 4 values as parameters that outputs a prediction for **medv**."
   ]
  },
  {
   "cell_type": "code",
   "execution_count": null,
   "metadata": {},
   "outputs": [],
   "source": []
  },
  {
   "cell_type": "code",
   "execution_count": null,
   "metadata": {},
   "outputs": [],
   "source": []
  },
  {
   "cell_type": "code",
   "execution_count": null,
   "metadata": {},
   "outputs": [],
   "source": []
  },
  {
   "cell_type": "code",
   "execution_count": null,
   "metadata": {},
   "outputs": [],
   "source": []
  },
  {
   "cell_type": "markdown",
   "metadata": {},
   "source": [
    "![mathdamon](https://media.giphy.com/media/7pLv68ItwBaHS/giphy.gif \"goodstuff\")"
   ]
  },
  {
   "cell_type": "markdown",
   "metadata": {},
   "source": [
    "## Bonus:\n",
    "\n",
    "Look up **scikit-learn** to understand the cells below. *sklearn* is the industry standard library for doing ML models. Your task is to add comments to the code to describe what's happening."
   ]
  },
  {
   "cell_type": "markdown",
   "metadata": {},
   "source": [
    "![mathdamon](https://media.giphy.com/media/iB5i8ChtOAHba/giphy.gif \"goodstuff\")"
   ]
  },
  {
   "cell_type": "code",
   "execution_count": null,
   "metadata": {},
   "outputs": [],
   "source": [
    "import numpy as np\n",
    "from sklearn.linear_model import LinearRegression"
   ]
  },
  {
   "cell_type": "code",
   "execution_count": null,
   "metadata": {},
   "outputs": [],
   "source": [
    "# ADD COMMENTS TO THE CODE IN THIS CELL\n",
    "\n",
    "sklearnmodel = LinearRegression(fit_intercept=False).fit(X, y)\n",
    "r_squared = sklearnmodel.score(X, y)\n",
    "\n",
    "# you may have to change the order of this based on your X data\n",
    "predict = sklearnmodel.predict(np.array([[2, 6.5, 300, 7]])) \n",
    "\n",
    "\n",
    "print(\"Coefficients: \", sklearnmodel.coef_)\n",
    "print(\"R2: \", r_squared)\n",
    "print(\"Prediction: \", predict)"
   ]
  },
  {
   "cell_type": "markdown",
   "metadata": {},
   "source": [
    "![mathdamon](https://media.giphy.com/media/ESuXjz5pKQSGs/giphy.gif \"goodstuff\")"
   ]
  },
  {
   "cell_type": "markdown",
   "metadata": {},
   "source": [
    "Are the results from your sklearn model different from your StatsModels model? Note: the R^2 values for both might be different due to the different ways sklearn and sm calculate R^2. Don't worry about it."
   ]
  },
  {
   "cell_type": "code",
   "execution_count": null,
   "metadata": {},
   "outputs": [],
   "source": [
    "# Your observations:\n"
   ]
  }
 ],
 "metadata": {
  "kernelspec": {
   "display_name": "Python 3",
   "language": "python",
   "name": "python3"
  },
  "language_info": {
   "codemirror_mode": {
    "name": "ipython",
    "version": 3
   },
   "file_extension": ".py",
   "mimetype": "text/x-python",
   "name": "python",
   "nbconvert_exporter": "python",
   "pygments_lexer": "ipython3",
   "version": "3.7.1"
  }
 },
 "nbformat": 4,
 "nbformat_minor": 2
}
